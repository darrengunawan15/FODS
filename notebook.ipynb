{
 "cells": [
  {
   "cell_type": "markdown",
   "metadata": {},
   "source": [
    "# **IMPORT**"
   ]
  },
  {
   "cell_type": "code",
   "execution_count": 57,
   "metadata": {},
   "outputs": [],
   "source": [
    "import pandas as pd\n",
    "import numpy as np\n",
    "import matplotlib.pyplot as plt\n",
    "import seaborn as sns\n",
    "\n",
    "# Scikit-learn Libraries\n",
    "from sklearn.model_selection import train_test_split\n",
    "from sklearn.preprocessing import StandardScaler\n",
    "from sklearn.metrics import accuracy_score, classification_report, ConfusionMatrixDisplay, RocCurveDisplay\n",
    "from sklearn.linear_model import LogisticRegression\n",
    "from sklearn.ensemble import RandomForestClassifier, ExtraTreesClassifier\n",
    "from sklearn.inspection import permutation_importance\n",
    "from sklearn.feature_selection import RFE\n",
    "from sklearn.tree import DecisionTreeClassifier\n",
    "\n",
    "# Imbalanced Learning Libraries\n",
    "from imblearn.over_sampling import SMOTE\n",
    "from imblearn.under_sampling import RandomUnderSampler\n",
    "from imblearn.combine import SMOTEENN\n",
    "\n",
    "# XGBoost\n",
    "import xgboost as xgb"
   ]
  },
  {
   "cell_type": "code",
   "execution_count": 63,
   "metadata": {},
   "outputs": [
    {
     "name": "stdout",
     "output_type": "stream",
     "text": [
      "<class 'pandas.core.frame.DataFrame'>\n",
      "Index: 1238290 entries, 1.0 to 1.0\n",
      "Data columns (total 17 columns):\n",
      " #   Column                   Non-Null Count    Dtype  \n",
      "---  ------                   --------------    -----  \n",
      " 0   DiabetesOutput           1238290 non-null  int64  \n",
      " 1   HighBloodPressure        1238290 non-null  float64\n",
      " 2   HighCholesterol          1238290 non-null  int64  \n",
      " 3   CholesterolCheck         1238290 non-null  float64\n",
      " 4   BMI                      1238290 non-null  float64\n",
      " 5   Smoker                   1238290 non-null  float64\n",
      " 6   Stroke                   1238290 non-null  float64\n",
      " 7   HeartDiseaseorAttack     1238290 non-null  int64  \n",
      " 8   PhysicalActivity         1238290 non-null  int64  \n",
      " 9   HeavyAlcoholConsumption  1238290 non-null  float64\n",
      " 10  AnyHealthcare            1238290 non-null  float64\n",
      " 11  GeneralHealth            1238290 non-null  float64\n",
      " 12  MentalHealth             1238290 non-null  float64\n",
      " 13  PhysicalHealth           1238290 non-null  float64\n",
      " 14  DifficultyWalking        1238290 non-null  float64\n",
      " 15  Sex                      1238290 non-null  int64  \n",
      " 16  Age                      1238290 non-null  int64  \n",
      "dtypes: float64(11), int64(6)\n",
      "memory usage: 170.1 MB\n"
     ]
    }
   ],
   "source": [
    "data = pd.read_csv('diabetes_dataset.csv')\n",
    "df = pd.DataFrame(data)\n",
    "\n",
    "df.info()"
   ]
  },
  {
   "cell_type": "markdown",
   "metadata": {},
   "source": [
    "# **Scanning The Data**"
   ]
  },
  {
   "cell_type": "code",
   "execution_count": 64,
   "metadata": {},
   "outputs": [
    {
     "data": {
      "image/png": "[encoded data removed]",
      "text/plain": [
       "<Figure size 700x600 with 1 Axes>"
      ]
     },
     "metadata": {},
     "output_type": "display_data"
    },
    {
     "name": "stdout",
     "output_type": "stream",
     "text": [
      "DiabetesOutput\n",
      "0    705161\n",
      "1    533129\n",
      "Name: count, dtype: int64\n"
     ]
    }
   ],
   "source": [
    "sns.set_theme(font_scale=1.0)\n",
    "df['DiabetesOutput'].value_counts().plot(kind='bar', figsize=(7, 6), rot=0)\n",
    "plt.xlabel(\"Diabetes Target\", labelpad=14)\n",
    "plt.title(\"Diabetes Target Distribution\", y=1.1);\n",
    "plt.show()\n",
    "\n",
    "print(df['DiabetesOutput'].value_counts())"
   ]
  },
  {
   "cell_type": "markdown",
   "metadata": {},
   "source": [
    "## Checking Missing Value and Removing Duplicate Rows"
   ]
  },
  {
   "cell_type": "code",
   "execution_count": 65,
   "metadata": {},
   "outputs": [
    {
     "data": {
      "text/plain": [
       "DiabetesOutput             0\n",
       "HighBloodPressure          0\n",
       "HighCholesterol            0\n",
       "CholesterolCheck           0\n",
       "BMI                        0\n",
       "Smoker                     0\n",
       "Stroke                     0\n",
       "HeartDiseaseorAttack       0\n",
       "PhysicalActivity           0\n",
       "HeavyAlcoholConsumption    0\n",
       "AnyHealthcare              0\n",
       "GeneralHealth              0\n",
       "MentalHealth               0\n",
       "PhysicalHealth             0\n",
       "DifficultyWalking          0\n",
       "Sex                        0\n",
       "Age                        0\n",
       "dtype: int64"
      ]
     },
     "execution_count": 65,
     "metadata": {},
     "output_type": "execute_result"
    }
   ],
   "source": [
    "df.isnull().sum()"
   ]
  },
  {
   "cell_type": "code",
   "execution_count": 66,
   "metadata": {},
   "outputs": [
    {
     "name": "stdout",
     "output_type": "stream",
     "text": [
      "All Duplicate Rows:\n"
     ]
    },
    {
     "data": {
      "text/html": [
       "<div>\n",
       "<style scoped>\n",
       "    .dataframe tbody tr th:only-of-type {\n",
       "        vertical-align: middle;\n",
       "    }\n",
       "\n",
       "    .dataframe tbody tr th {\n",
       "        vertical-align: top;\n",
       "    }\n",
       "\n",
       "    .dataframe thead th {\n",
       "        text-align: right;\n",
       "    }\n",
       "</style>\n",
       "<table border=\"1\" class=\"dataframe\">\n",
       "  <thead>\n",
       "    <tr style=\"text-align: right;\">\n",
       "      <th></th>\n",
       "      <th>DiabetesOutput</th>\n",
       "      <th>HighBloodPressure</th>\n",
       "      <th>HighCholesterol</th>\n",
       "      <th>CholesterolCheck</th>\n",
       "      <th>BMI</th>\n",
       "      <th>Smoker</th>\n",
       "      <th>Stroke</th>\n",
       "      <th>HeartDiseaseorAttack</th>\n",
       "      <th>PhysicalActivity</th>\n",
       "      <th>HeavyAlcoholConsumption</th>\n",
       "      <th>AnyHealthcare</th>\n",
       "      <th>GeneralHealth</th>\n",
       "      <th>MentalHealth</th>\n",
       "      <th>PhysicalHealth</th>\n",
       "      <th>DifficultyWalking</th>\n",
       "      <th>Sex</th>\n",
       "      <th>Age</th>\n",
       "    </tr>\n",
       "  </thead>\n",
       "  <tbody>\n",
       "    <tr>\n",
       "      <th>1.0</th>\n",
       "      <td>1</td>\n",
       "      <td>1.0</td>\n",
       "      <td>1</td>\n",
       "      <td>27.0</td>\n",
       "      <td>0.0</td>\n",
       "      <td>0.0</td>\n",
       "      <td>0.0</td>\n",
       "      <td>1</td>\n",
       "      <td>0</td>\n",
       "      <td>1.0</td>\n",
       "      <td>0.0</td>\n",
       "      <td>2.0</td>\n",
       "      <td>0.0</td>\n",
       "      <td>0.0</td>\n",
       "      <td>1.0</td>\n",
       "      <td>0</td>\n",
       "      <td>11</td>\n",
       "    </tr>\n",
       "    <tr>\n",
       "      <th>0.0</th>\n",
       "      <td>1</td>\n",
       "      <td>0.0</td>\n",
       "      <td>1</td>\n",
       "      <td>29.0</td>\n",
       "      <td>0.0</td>\n",
       "      <td>0.0</td>\n",
       "      <td>0.0</td>\n",
       "      <td>1</td>\n",
       "      <td>0</td>\n",
       "      <td>1.0</td>\n",
       "      <td>0.0</td>\n",
       "      <td>2.0</td>\n",
       "      <td>0.0</td>\n",
       "      <td>0.0</td>\n",
       "      <td>0.0</td>\n",
       "      <td>1</td>\n",
       "      <td>10</td>\n",
       "    </tr>\n",
       "    <tr>\n",
       "      <th>0.0</th>\n",
       "      <td>0</td>\n",
       "      <td>1.0</td>\n",
       "      <td>1</td>\n",
       "      <td>25.0</td>\n",
       "      <td>0.0</td>\n",
       "      <td>0.0</td>\n",
       "      <td>0.0</td>\n",
       "      <td>2</td>\n",
       "      <td>0</td>\n",
       "      <td>1.0</td>\n",
       "      <td>0.0</td>\n",
       "      <td>3.0</td>\n",
       "      <td>0.0</td>\n",
       "      <td>0.0</td>\n",
       "      <td>0.0</td>\n",
       "      <td>1</td>\n",
       "      <td>11</td>\n",
       "    </tr>\n",
       "    <tr>\n",
       "      <th>0.0</th>\n",
       "      <td>0</td>\n",
       "      <td>0.0</td>\n",
       "      <td>1</td>\n",
       "      <td>28.0</td>\n",
       "      <td>0.0</td>\n",
       "      <td>0.0</td>\n",
       "      <td>0.0</td>\n",
       "      <td>2</td>\n",
       "      <td>0</td>\n",
       "      <td>1.0</td>\n",
       "      <td>0.0</td>\n",
       "      <td>3.0</td>\n",
       "      <td>0.0</td>\n",
       "      <td>0.0</td>\n",
       "      <td>0.0</td>\n",
       "      <td>1</td>\n",
       "      <td>10</td>\n",
       "    </tr>\n",
       "    <tr>\n",
       "      <th>0.0</th>\n",
       "      <td>1</td>\n",
       "      <td>1.0</td>\n",
       "      <td>1</td>\n",
       "      <td>24.0</td>\n",
       "      <td>0.0</td>\n",
       "      <td>0.0</td>\n",
       "      <td>0.0</td>\n",
       "      <td>2</td>\n",
       "      <td>0</td>\n",
       "      <td>1.0</td>\n",
       "      <td>0.0</td>\n",
       "      <td>3.0</td>\n",
       "      <td>0.0</td>\n",
       "      <td>0.0</td>\n",
       "      <td>0.0</td>\n",
       "      <td>0</td>\n",
       "      <td>10</td>\n",
       "    </tr>\n",
       "    <tr>\n",
       "      <th>...</th>\n",
       "      <td>...</td>\n",
       "      <td>...</td>\n",
       "      <td>...</td>\n",
       "      <td>...</td>\n",
       "      <td>...</td>\n",
       "      <td>...</td>\n",
       "      <td>...</td>\n",
       "      <td>...</td>\n",
       "      <td>...</td>\n",
       "      <td>...</td>\n",
       "      <td>...</td>\n",
       "      <td>...</td>\n",
       "      <td>...</td>\n",
       "      <td>...</td>\n",
       "      <td>...</td>\n",
       "      <td>...</td>\n",
       "      <td>...</td>\n",
       "    </tr>\n",
       "    <tr>\n",
       "      <th>0.0</th>\n",
       "      <td>1</td>\n",
       "      <td>1.0</td>\n",
       "      <td>1</td>\n",
       "      <td>31.0</td>\n",
       "      <td>0.0</td>\n",
       "      <td>0.0</td>\n",
       "      <td>0.0</td>\n",
       "      <td>1</td>\n",
       "      <td>0</td>\n",
       "      <td>1.0</td>\n",
       "      <td>0.0</td>\n",
       "      <td>3.0</td>\n",
       "      <td>0.0</td>\n",
       "      <td>0.0</td>\n",
       "      <td>0.0</td>\n",
       "      <td>1</td>\n",
       "      <td>11</td>\n",
       "    </tr>\n",
       "    <tr>\n",
       "      <th>0.0</th>\n",
       "      <td>0</td>\n",
       "      <td>0.0</td>\n",
       "      <td>1</td>\n",
       "      <td>27.0</td>\n",
       "      <td>0.0</td>\n",
       "      <td>0.0</td>\n",
       "      <td>0.0</td>\n",
       "      <td>1</td>\n",
       "      <td>0</td>\n",
       "      <td>1.0</td>\n",
       "      <td>0.0</td>\n",
       "      <td>3.0</td>\n",
       "      <td>2.0</td>\n",
       "      <td>0.0</td>\n",
       "      <td>0.0</td>\n",
       "      <td>0</td>\n",
       "      <td>8</td>\n",
       "    </tr>\n",
       "    <tr>\n",
       "      <th>1.0</th>\n",
       "      <td>1</td>\n",
       "      <td>1.0</td>\n",
       "      <td>1</td>\n",
       "      <td>26.0</td>\n",
       "      <td>0.0</td>\n",
       "      <td>0.0</td>\n",
       "      <td>0.0</td>\n",
       "      <td>1</td>\n",
       "      <td>0</td>\n",
       "      <td>1.0</td>\n",
       "      <td>0.0</td>\n",
       "      <td>3.0</td>\n",
       "      <td>0.0</td>\n",
       "      <td>0.0</td>\n",
       "      <td>0.0</td>\n",
       "      <td>0</td>\n",
       "      <td>11</td>\n",
       "    </tr>\n",
       "    <tr>\n",
       "      <th>0.0</th>\n",
       "      <td>0</td>\n",
       "      <td>0.0</td>\n",
       "      <td>1</td>\n",
       "      <td>25.0</td>\n",
       "      <td>0.0</td>\n",
       "      <td>0.0</td>\n",
       "      <td>0.0</td>\n",
       "      <td>2</td>\n",
       "      <td>0</td>\n",
       "      <td>1.0</td>\n",
       "      <td>0.0</td>\n",
       "      <td>2.0</td>\n",
       "      <td>0.0</td>\n",
       "      <td>0.0</td>\n",
       "      <td>0.0</td>\n",
       "      <td>0</td>\n",
       "      <td>3</td>\n",
       "    </tr>\n",
       "    <tr>\n",
       "      <th>1.0</th>\n",
       "      <td>1</td>\n",
       "      <td>1.0</td>\n",
       "      <td>1</td>\n",
       "      <td>24.0</td>\n",
       "      <td>0.0</td>\n",
       "      <td>0.0</td>\n",
       "      <td>0.0</td>\n",
       "      <td>1</td>\n",
       "      <td>0</td>\n",
       "      <td>1.0</td>\n",
       "      <td>0.0</td>\n",
       "      <td>3.0</td>\n",
       "      <td>0.0</td>\n",
       "      <td>0.0</td>\n",
       "      <td>0.0</td>\n",
       "      <td>0</td>\n",
       "      <td>10</td>\n",
       "    </tr>\n",
       "  </tbody>\n",
       "</table>\n",
       "<p>938907 rows × 17 columns</p>\n",
       "</div>"
      ],
      "text/plain": [
       "     DiabetesOutput  HighBloodPressure  HighCholesterol  CholesterolCheck  \\\n",
       "1.0               1                1.0                1              27.0   \n",
       "0.0               1                0.0                1              29.0   \n",
       "0.0               0                1.0                1              25.0   \n",
       "0.0               0                0.0                1              28.0   \n",
       "0.0               1                1.0                1              24.0   \n",
       "..              ...                ...              ...               ...   \n",
       "0.0               1                1.0                1              31.0   \n",
       "0.0               0                0.0                1              27.0   \n",
       "1.0               1                1.0                1              26.0   \n",
       "0.0               0                0.0                1              25.0   \n",
       "1.0               1                1.0                1              24.0   \n",
       "\n",
       "     BMI  Smoker  Stroke  HeartDiseaseorAttack  PhysicalActivity  \\\n",
       "1.0  0.0     0.0     0.0                     1                 0   \n",
       "0.0  0.0     0.0     0.0                     1                 0   \n",
       "0.0  0.0     0.0     0.0                     2                 0   \n",
       "0.0  0.0     0.0     0.0                     2                 0   \n",
       "0.0  0.0     0.0     0.0                     2                 0   \n",
       "..   ...     ...     ...                   ...               ...   \n",
       "0.0  0.0     0.0     0.0                     1                 0   \n",
       "0.0  0.0     0.0     0.0                     1                 0   \n",
       "1.0  0.0     0.0     0.0                     1                 0   \n",
       "0.0  0.0     0.0     0.0                     2                 0   \n",
       "1.0  0.0     0.0     0.0                     1                 0   \n",
       "\n",
       "     HeavyAlcoholConsumption  AnyHealthcare  GeneralHealth  MentalHealth  \\\n",
       "1.0                      1.0            0.0            2.0           0.0   \n",
       "0.0                      1.0            0.0            2.0           0.0   \n",
       "0.0                      1.0            0.0            3.0           0.0   \n",
       "0.0                      1.0            0.0            3.0           0.0   \n",
       "0.0                      1.0            0.0            3.0           0.0   \n",
       "..                       ...            ...            ...           ...   \n",
       "0.0                      1.0            0.0            3.0           0.0   \n",
       "0.0                      1.0            0.0            3.0           2.0   \n",
       "1.0                      1.0            0.0            3.0           0.0   \n",
       "0.0                      1.0            0.0            2.0           0.0   \n",
       "1.0                      1.0            0.0            3.0           0.0   \n",
       "\n",
       "     PhysicalHealth  DifficultyWalking  Sex  Age  \n",
       "1.0             0.0                1.0    0   11  \n",
       "0.0             0.0                0.0    1   10  \n",
       "0.0             0.0                0.0    1   11  \n",
       "0.0             0.0                0.0    1   10  \n",
       "0.0             0.0                0.0    0   10  \n",
       "..              ...                ...  ...  ...  \n",
       "0.0             0.0                0.0    1   11  \n",
       "0.0             0.0                0.0    0    8  \n",
       "1.0             0.0                0.0    0   11  \n",
       "0.0             0.0                0.0    0    3  \n",
       "1.0             0.0                0.0    0   10  \n",
       "\n",
       "[938907 rows x 17 columns]"
      ]
     },
     "execution_count": 66,
     "metadata": {},
     "output_type": "execute_result"
    }
   ],
   "source": [
    "duplicate_rows = df.duplicated()\n",
    "print(\"All Duplicate Rows:\")\n",
    "df[df.duplicated(keep=False)]"
   ]
  },
  {
   "cell_type": "code",
   "execution_count": 67,
   "metadata": {},
   "outputs": [
    {
     "name": "stdout",
     "output_type": "stream",
     "text": [
      "All Duplicate Rows:\n"
     ]
    },
    {
     "data": {
      "text/html": [
       "<div>\n",
       "<style scoped>\n",
       "    .dataframe tbody tr th:only-of-type {\n",
       "        vertical-align: middle;\n",
       "    }\n",
       "\n",
       "    .dataframe tbody tr th {\n",
       "        vertical-align: top;\n",
       "    }\n",
       "\n",
       "    .dataframe thead th {\n",
       "        text-align: right;\n",
       "    }\n",
       "</style>\n",
       "<table border=\"1\" class=\"dataframe\">\n",
       "  <thead>\n",
       "    <tr style=\"text-align: right;\">\n",
       "      <th></th>\n",
       "      <th>DiabetesOutput</th>\n",
       "      <th>HighBloodPressure</th>\n",
       "      <th>HighCholesterol</th>\n",
       "      <th>CholesterolCheck</th>\n",
       "      <th>BMI</th>\n",
       "      <th>Smoker</th>\n",
       "      <th>Stroke</th>\n",
       "      <th>HeartDiseaseorAttack</th>\n",
       "      <th>PhysicalActivity</th>\n",
       "      <th>HeavyAlcoholConsumption</th>\n",
       "      <th>AnyHealthcare</th>\n",
       "      <th>GeneralHealth</th>\n",
       "      <th>MentalHealth</th>\n",
       "      <th>PhysicalHealth</th>\n",
       "      <th>DifficultyWalking</th>\n",
       "      <th>Sex</th>\n",
       "      <th>Age</th>\n",
       "    </tr>\n",
       "  </thead>\n",
       "  <tbody>\n",
       "  </tbody>\n",
       "</table>\n",
       "</div>"
      ],
      "text/plain": [
       "Empty DataFrame\n",
       "Columns: [DiabetesOutput, HighBloodPressure, HighCholesterol, CholesterolCheck, BMI, Smoker, Stroke, HeartDiseaseorAttack, PhysicalActivity, HeavyAlcoholConsumption, AnyHealthcare, GeneralHealth, MentalHealth, PhysicalHealth, DifficultyWalking, Sex, Age]\n",
       "Index: []"
      ]
     },
     "execution_count": 67,
     "metadata": {},
     "output_type": "execute_result"
    }
   ],
   "source": [
    "dataClean = df.drop_duplicates()\n",
    "print(\"All Duplicate Rows:\")\n",
    "dataClean[dataClean.duplicated(keep=False)]"
   ]
  },
  {
   "cell_type": "code",
   "execution_count": 68,
   "metadata": {},
   "outputs": [
    {
     "name": "stdout",
     "output_type": "stream",
     "text": [
      "<class 'pandas.core.frame.DataFrame'>\n",
      "Index: 529649 entries, 1.0 to 0.0\n",
      "Data columns (total 17 columns):\n",
      " #   Column                   Non-Null Count   Dtype  \n",
      "---  ------                   --------------   -----  \n",
      " 0   DiabetesOutput           529649 non-null  int64  \n",
      " 1   HighBloodPressure        529649 non-null  float64\n",
      " 2   HighCholesterol          529649 non-null  int64  \n",
      " 3   CholesterolCheck         529649 non-null  float64\n",
      " 4   BMI                      529649 non-null  float64\n",
      " 5   Smoker                   529649 non-null  float64\n",
      " 6   Stroke                   529649 non-null  float64\n",
      " 7   HeartDiseaseorAttack     529649 non-null  int64  \n",
      " 8   PhysicalActivity         529649 non-null  int64  \n",
      " 9   HeavyAlcoholConsumption  529649 non-null  float64\n",
      " 10  AnyHealthcare            529649 non-null  float64\n",
      " 11  GeneralHealth            529649 non-null  float64\n",
      " 12  MentalHealth             529649 non-null  float64\n",
      " 13  PhysicalHealth           529649 non-null  float64\n",
      " 14  DifficultyWalking        529649 non-null  float64\n",
      " 15  Sex                      529649 non-null  int64  \n",
      " 16  Age                      529649 non-null  int64  \n",
      "dtypes: float64(11), int64(6)\n",
      "memory usage: 72.7 MB\n"
     ]
    }
   ],
   "source": [
    "dataClean.info()"
   ]
  },
  {
   "cell_type": "code",
   "execution_count": 69,
   "metadata": {},
   "outputs": [
    {
     "data": {
      "image/png": "[encoded data removed]",
      "text/plain": [
       "<Figure size 700x600 with 1 Axes>"
      ]
     },
     "metadata": {},
     "output_type": "display_data"
    },
    {
     "name": "stdout",
     "output_type": "stream",
     "text": [
      "DiabetesOutput\n",
      "0    276795\n",
      "1    252854\n",
      "Name: count, dtype: int64\n"
     ]
    }
   ],
   "source": [
    "sns.set_theme(font_scale=1.0)\n",
    "dataClean['DiabetesOutput'].value_counts().plot(kind='bar', figsize=(7, 6), rot=0)\n",
    "plt.xlabel(\"Diabetes Target\", labelpad=14)\n",
    "plt.title(\"Diabetes Target Distribution\", y=1.1);\n",
    "plt.show()\n",
    "\n",
    "print(dataClean['DiabetesOutput'].value_counts())"
   ]
  },
  {
   "cell_type": "markdown",
   "metadata": {},
   "source": [
    "# **Data Balancing**"
   ]
  },
  {
   "cell_type": "code",
   "execution_count": 70,
   "metadata": {},
   "outputs": [],
   "source": [
    "X = dataClean.drop(['DiabetesOutput'], axis = 1).values\n",
    "y = dataClean['DiabetesOutput']"
   ]
  },
  {
   "cell_type": "markdown",
   "metadata": {},
   "source": [
    "## Over-Sampling SMOTE"
   ]
  },
  {
   "cell_type": "code",
   "execution_count": 71,
   "metadata": {},
   "outputs": [
    {
     "data": {
      "image/png": "[encoded data removed]",
      "text/plain": [
       "<Figure size 640x480 with 1 Axes>"
      ]
     },
     "metadata": {},
     "output_type": "display_data"
    },
    {
     "data": {
      "text/plain": [
       "DiabetesOutput\n",
       "1    276795\n",
       "0    276795\n",
       "Name: count, dtype: int64"
      ]
     },
     "execution_count": 71,
     "metadata": {},
     "output_type": "execute_result"
    }
   ],
   "source": [
    "# SMOTE\n",
    "smote = SMOTE(random_state=42)\n",
    "X_resampled_smote, y_resampled_smote = SMOTE().fit_resample(X, y)\n",
    "\n",
    "# Oversampling SMOTE\n",
    "sns.set_theme(font_scale=1.0)\n",
    "smote_counts = y_resampled_smote.value_counts()\n",
    "\n",
    "plt.bar(smote_counts.index, smote_counts.values)\n",
    "plt.xlabel(\"Target\", labelpad=14)\n",
    "plt.xticks([0, 1])\n",
    "plt.title(\"Oversampling SMOTE\", y=1.1);\n",
    "plt.show()\n",
    "\n",
    "smote_counts"
   ]
  },
  {
   "cell_type": "markdown",
   "metadata": {},
   "source": [
    "## Under-Sampling RandomUnderSampler"
   ]
  },
  {
   "cell_type": "code",
   "execution_count": 72,
   "metadata": {},
   "outputs": [
    {
     "data": {
      "image/png": "[encoded data removed]",
      "text/plain": [
       "<Figure size 640x480 with 1 Axes>"
      ]
     },
     "metadata": {},
     "output_type": "display_data"
    },
    {
     "data": {
      "text/plain": [
       "DiabetesOutput\n",
       "0    252854\n",
       "1    252854\n",
       "Name: count, dtype: int64"
      ]
     },
     "execution_count": 72,
     "metadata": {},
     "output_type": "execute_result"
    }
   ],
   "source": [
    "# RandomUnderSampler\n",
    "rus = RandomUnderSampler(random_state=42)\n",
    "X_resampled_rus, y_resampled_rus = rus.fit_resample(X, y)\n",
    "\n",
    "# Under-Sampling RandomUnderSampler\n",
    "sns.set_theme(font_scale=1.0)\n",
    "rus_counts = y_resampled_rus.value_counts()\n",
    "\n",
    "plt.bar(rus_counts.index, rus_counts.values)\n",
    "plt.xlabel(\"Target\", labelpad=14)\n",
    "plt.xticks([0, 1])\n",
    "plt.title(\"Under-Sampling RandomUnderSampler\", y=1.1);\n",
    "plt.show()\n",
    "\n",
    "rus_counts"
   ]
  },
  {
   "cell_type": "markdown",
   "metadata": {},
   "source": [
    "## Over- and Under-Sampling SMOTEENN"
   ]
  },
  {
   "cell_type": "code",
   "execution_count": 73,
   "metadata": {},
   "outputs": [
    {
     "data": {
      "image/png": "[encoded data removed]",
      "text/plain": [
       "<Figure size 640x480 with 1 Axes>"
      ]
     },
     "metadata": {},
     "output_type": "display_data"
    },
    {
     "data": {
      "text/plain": [
       "DiabetesOutput\n",
       "0    83877\n",
       "1    79115\n",
       "Name: count, dtype: int64"
      ]
     },
     "execution_count": 73,
     "metadata": {},
     "output_type": "execute_result"
    }
   ],
   "source": [
    "# SMOTEENN\n",
    "smoteenn = SMOTEENN(random_state=42)\n",
    "X_resampled_smoteenn, y_resampled_smoteenn = smoteenn.fit_resample(X, y)\n",
    "\n",
    "# Over- and Under-Sampling SMOTEENN\n",
    "sns.set_theme(font_scale=1.0)\n",
    "smoteenn_counts = y_resampled_smoteenn.value_counts()\n",
    "\n",
    "plt.bar(smoteenn_counts.index, smoteenn_counts.values)\n",
    "plt.xlabel(\"Target\", labelpad=14)\n",
    "plt.xticks([0, 1])\n",
    "plt.title(\"Over- and Under-Sampling SMOTEENN\", y=1.1);\n",
    "plt.show()\n",
    "\n",
    "smoteenn_counts"
   ]
  },
  {
   "cell_type": "markdown",
   "metadata": {},
   "source": [
    "## Comparing Sampling Model"
   ]
  },
  {
   "cell_type": "code",
   "execution_count": 74,
   "metadata": {},
   "outputs": [
    {
     "name": "stdout",
     "output_type": "stream",
     "text": [
      "Success\n"
     ]
    }
   ],
   "source": [
    "#Data Raw\n",
    "X_train, X_test, y_train, y_test = train_test_split(X, y, test_size=0.2, random_state=42)\n",
    "len(X_train), len(X_test), len(y_train), len(y_test)\n",
    "\n",
    "model = xgb.XGBClassifier()\n",
    "model.fit(X_train, y_train)\n",
    "\n",
    "# Oversampling SMOTE\n",
    "X_train_smote, X_test_smote, y_train_smote, y_test_smote = train_test_split(X_resampled_smote, y_resampled_smote, test_size=0.2, random_state=42)\n",
    "len(X_train_smote), len(X_test_smote), len(y_train_smote), len(y_test_smote)\n",
    "\n",
    "model_smote = xgb.XGBClassifier()\n",
    "model_smote.fit(X_train_smote, y_train_smote)\n",
    "\n",
    "# Under-Sampling RandomUnderSampler\n",
    "X_train_rus, X_test_rus, y_train_rus, y_test_rus = train_test_split(X_resampled_rus, y_resampled_rus, test_size=0.2, random_state=42)\n",
    "len(X_train_rus), len(X_test_rus), len(y_train_rus), len(y_test_rus)\n",
    "\n",
    "model_rus = xgb.XGBClassifier()\n",
    "model_rus.fit(X_train_rus, y_train_rus)\n",
    "\n",
    "# Over- and Under-Sampling SMOTEENN\n",
    "X_train_smoteenn, X_test_smoteenn, y_train_smoteenn, y_test_smoteenn = train_test_split(X_resampled_smoteenn, y_resampled_smoteenn, test_size=0.2, random_state=42)\n",
    "len(X_train_smoteenn), len(X_test_smoteenn), len(y_train_smoteenn), len(y_test_smoteenn)\n",
    "\n",
    "model_smoteenn = xgb.XGBClassifier()\n",
    "model_smoteenn.fit(X_train_smoteenn, y_train_smoteenn)\n",
    "\n",
    "print(\"Success\")"
   ]
  },
  {
   "cell_type": "code",
   "execution_count": 75,
   "metadata": {},
   "outputs": [
    {
     "name": "stdout",
     "output_type": "stream",
     "text": [
      "\n",
      "Test Set:\n",
      "              precision    recall  f1-score   support\n",
      "\n",
      "           0       0.71      0.71      0.71     55303\n",
      "           1       0.68      0.69      0.68     50627\n",
      "\n",
      "    accuracy                           0.70    105930\n",
      "   macro avg       0.70      0.70      0.70    105930\n",
      "weighted avg       0.70      0.70      0.70    105930\n",
      "\n",
      "\n",
      "Test Set Accuracy: 0.6969224959879166\n"
     ]
    }
   ],
   "source": [
    "# Raw Data\n",
    "y_test_pred = model.predict(X_test)\n",
    "\n",
    "print(\"\\nTest Set:\")\n",
    "print(classification_report(y_test, y_test_pred))\n",
    "\n",
    "accuracy_test = accuracy_score(y_test, y_test_pred)\n",
    "\n",
    "print(\"\\nTest Set Accuracy:\", accuracy_test)"
   ]
  },
  {
   "cell_type": "code",
   "execution_count": 76,
   "metadata": {},
   "outputs": [
    {
     "name": "stdout",
     "output_type": "stream",
     "text": [
      "\n",
      "Test Set:\n",
      "              precision    recall  f1-score   support\n",
      "\n",
      "           0       0.72      0.70      0.71     55275\n",
      "           1       0.71      0.72      0.71     55443\n",
      "\n",
      "    accuracy                           0.71    110718\n",
      "   macro avg       0.71      0.71      0.71    110718\n",
      "weighted avg       0.71      0.71      0.71    110718\n",
      "\n",
      "\n",
      "Test Set Accuracy: 0.7104716486930761\n"
     ]
    }
   ],
   "source": [
    "# Over-Sampling SMOTE\n",
    "y_test_pred_smote = model_smote.predict(X_test_smote)\n",
    "\n",
    "print(\"\\nTest Set:\")\n",
    "print(classification_report(y_test_smote, y_test_pred_smote))\n",
    "\n",
    "accuracy_test_smote = accuracy_score(y_test_smote, y_test_pred_smote)\n",
    "\n",
    "print(\"\\nTest Set Accuracy:\", accuracy_test_smote)"
   ]
  },
  {
   "cell_type": "code",
   "execution_count": 77,
   "metadata": {},
   "outputs": [
    {
     "name": "stdout",
     "output_type": "stream",
     "text": [
      "\n",
      "Test Set:\n",
      "              precision    recall  f1-score   support\n",
      "\n",
      "           0       0.71      0.67      0.69     50642\n",
      "           1       0.68      0.72      0.70     50500\n",
      "\n",
      "    accuracy                           0.69    101142\n",
      "   macro avg       0.69      0.69      0.69    101142\n",
      "weighted avg       0.69      0.69      0.69    101142\n",
      "\n",
      "\n",
      "Test Set Accuracy: 0.6938265013545313\n"
     ]
    }
   ],
   "source": [
    "# Under-Sampling RandomUnderSampler\n",
    "y_test_pred_rus = model_rus.predict(X_test_rus)\n",
    "\n",
    "print(\"\\nTest Set:\")\n",
    "print(classification_report(y_test_rus, y_test_pred_rus))\n",
    "\n",
    "accuracy_test_rus = accuracy_score(y_test_rus, y_test_pred_rus)\n",
    "\n",
    "print(\"\\nTest Set Accuracy:\", accuracy_test_rus)"
   ]
  },
  {
   "cell_type": "code",
   "execution_count": null,
   "metadata": {},
   "outputs": [
    {
     "name": "stdout",
     "output_type": "stream",
     "text": [
      "\n",
      "Test Set:\n",
      "              precision    recall  f1-score   support\n",
      "\n",
      "           0       0.94      0.94      0.94     16616\n",
      "           1       0.94      0.94      0.94     15983\n",
      "\n",
      "    accuracy                           0.94     32599\n",
      "   macro avg       0.94      0.94      0.94     32599\n",
      "weighted avg       0.94      0.94      0.94     32599\n",
      "\n",
      "\n",
      "Test Set Accuracy: 0.9401515383907482\n"
     ]
    }
   ],
   "source": [
    "# Over and Under-Sampling SMOTEENN\n",
    "y_test_pred_smoteenn = model_smoteenn.predict(X_test_smoteenn)\n",
    "\n",
    "print(\"\\nTest Set:\")\n",
    "print(classification_report(y_test_smoteenn, y_test_pred_smoteenn))\n",
    "\n",
    "accuracy_test_smoteenn = accuracy_score(y_test_smoteenn, y_test_pred_smoteenn)\n",
    "\n",
    "print(\"\\nTest Set Accuracy:\", accuracy_test_smoteenn)"
   ]
  },
  {
   "cell_type": "code",
   "execution_count": 79,
   "metadata": {},
   "outputs": [
    {
     "name": "stderr",
     "output_type": "stream",
     "text": [
      "C:\\Users\\Darren\\AppData\\Local\\Temp\\ipykernel_9848\\2981312884.py:9: UserWarning: set_ticklabels() should only be used with a fixed number of ticks, i.e. after set_ticks() or using a FixedLocator.\n",
      "  ax.set_xticklabels(model_comp['Sampling Technique'], rotation=45, ha='right')\n"
     ]
    },
    {
     "data": {
      "image/png": "[encoded data removed]",
      "text/plain": [
       "<Figure size 640x480 with 1 Axes>"
      ]
     },
     "metadata": {},
     "output_type": "display_data"
    }
   ],
   "source": [
    "model_comp = pd.DataFrame({'Sampling Technique': ['Raw Data', 'SMOTE', 'RUS', 'SMOTEENN'], 'Accuracy': [accuracy_test*100, accuracy_test_smote*100, accuracy_test_rus*100, accuracy_test_smoteenn*100]})\n",
    "\n",
    "fig, ax = plt.subplots()\n",
    "bars = ax.bar(model_comp['Sampling Technique'], model_comp['Accuracy'])\n",
    "\n",
    "ax.set_xlabel('Sampling Technique')\n",
    "ax.set_ylabel('Accuracy (%)')\n",
    "ax.set_title('Comparison (Test)')\n",
    "ax.set_xticklabels(model_comp['Sampling Technique'], rotation=45, ha='right')\n",
    "\n",
    "for bar in bars:\n",
    "    yval = bar.get_height()\n",
    "    ax.text(bar.get_x() + bar.get_width()/2, yval, f'{round(yval, 2)}%', ha='center', va='bottom')\n",
    "\n",
    "plt.tight_layout()\n",
    "plt.show()"
   ]
  },
  {
   "cell_type": "markdown",
   "metadata": {},
   "source": [
    "# **Training Predictive Model**"
   ]
  },
  {
   "cell_type": "code",
   "execution_count": 80,
   "metadata": {},
   "outputs": [],
   "source": [
    "X = X_resampled_smoteenn\n",
    "y = y_resampled_smoteenn\n",
    "\n",
    "X_train, X_test, y_train, y_test = train_test_split(X_resampled_smoteenn, y_resampled_smoteenn, test_size=0.2, random_state=42)"
   ]
  },
  {
   "cell_type": "markdown",
   "metadata": {},
   "source": [
    "## Decision Tree"
   ]
  },
  {
   "cell_type": "code",
   "execution_count": 86,
   "metadata": {},
   "outputs": [
    {
     "name": "stdout",
     "output_type": "stream",
     "text": [
      "Accuracy: 91.87%\n",
      "\n",
      "Classification Report:\n",
      "\n",
      "              precision    recall  f1-score   support\n",
      "\n",
      "          No       0.93      0.91      0.92     16616\n",
      "         Yes       0.91      0.93      0.92     15983\n",
      "\n",
      "    accuracy                           0.92     32599\n",
      "   macro avg       0.92      0.92      0.92     32599\n",
      "weighted avg       0.92      0.92      0.92     32599\n",
      "\n"
     ]
    }
   ],
   "source": [
    "clf = DecisionTreeClassifier(criterion='gini', max_depth=5, random_state=42)\n",
    "clf.fit(X_train, y_train)\n",
    "y_pred = clf.predict(X_test)\n",
    "\n",
    "accuracy = accuracy_score(y_test, y_pred)\n",
    "print(f\"Accuracy: {accuracy * 100:.2f}%\")\n",
    "\n",
    "report = classification_report(y_test, y_pred, target_names=['No', 'Yes'])\n",
    "print(\"\\nClassification Report:\\n\")\n",
    "print(report)"
   ]
  },
  {
   "cell_type": "markdown",
   "metadata": {},
   "source": [
    "## Random Forest"
   ]
  },
  {
   "cell_type": "code",
   "execution_count": 82,
   "metadata": {},
   "outputs": [
    {
     "name": "stdout",
     "output_type": "stream",
     "text": [
      "Accuracy: 94.12%\n",
      "\n",
      "Classification Report:\n",
      "\n",
      "              precision    recall  f1-score   support\n",
      "\n",
      "          No       0.94      0.94      0.94     16616\n",
      "         Yes       0.94      0.94      0.94     15983\n",
      "\n",
      "    accuracy                           0.94     32599\n",
      "   macro avg       0.94      0.94      0.94     32599\n",
      "weighted avg       0.94      0.94      0.94     32599\n",
      "\n"
     ]
    },
    {
     "data": {
      "image/png": "[encoded data removed]",
      "text/plain": [
       "<Figure size 640x480 with 1 Axes>"
      ]
     },
     "metadata": {},
     "output_type": "display_data"
    }
   ],
   "source": [
    "clf = RandomForestClassifier(n_estimators=100, criterion='gini', max_depth=None, random_state=42)\n",
    "clf.fit(X_train, y_train)\n",
    "y_pred = clf.predict(X_test)\n",
    "\n",
    "accuracy = accuracy_score(y_test, y_pred)\n",
    "print(f\"Accuracy: {accuracy * 100:.2f}%\")\n",
    "\n",
    "report = classification_report(y_test, y_pred, target_names=['No', 'Yes'])\n",
    "print(\"\\nClassification Report:\\n\")\n",
    "print(report)\n",
    "\n",
    "importances = clf.feature_importances_\n",
    "sns.barplot(x=[f\"{i}\" for i in range(X.shape[1])], y=importances)\n",
    "plt.title(\"Random Forest Feature Importance\")\n",
    "plt.show()"
   ]
  },
  {
   "cell_type": "markdown",
   "metadata": {},
   "source": [
    "## Logistic Regression"
   ]
  },
  {
   "cell_type": "code",
   "execution_count": 87,
   "metadata": {},
   "outputs": [
    {
     "name": "stdout",
     "output_type": "stream",
     "text": [
      "Accuracy: 93.09%\n",
      "\n",
      "Classification Report:\n",
      "\n",
      "              precision    recall  f1-score   support\n",
      "\n",
      "          No       0.93      0.93      0.93     16616\n",
      "         Yes       0.93      0.93      0.93     15983\n",
      "\n",
      "    accuracy                           0.93     32599\n",
      "   macro avg       0.93      0.93      0.93     32599\n",
      "weighted avg       0.93      0.93      0.93     32599\n",
      "\n"
     ]
    }
   ],
   "source": [
    "scaler = StandardScaler()\n",
    "X_train_scaled = scaler.fit_transform(X_train)\n",
    "X_test_scaled = scaler.transform(X_test)\n",
    "\n",
    "clf = LogisticRegression(max_iter=1000, random_state=42)\n",
    "clf.fit(X_train_scaled, y_train)\n",
    "y_pred = clf.predict(X_test_scaled)\n",
    "\n",
    "accuracy = accuracy_score(y_test, y_pred)\n",
    "print(f\"Accuracy: {accuracy * 100:.2f}%\")\n",
    "\n",
    "report = classification_report(y_test, y_pred, target_names=['No', 'Yes'])\n",
    "print(\"\\nClassification Report:\\n\")\n",
    "print(report)"
   ]
  },
  {
   "cell_type": "markdown",
   "metadata": {},
   "source": [
    "## Extra Trees Classifier"
   ]
  },
  {
   "cell_type": "code",
   "execution_count": 88,
   "metadata": {},
   "outputs": [
    {
     "name": "stdout",
     "output_type": "stream",
     "text": [
      "Accuracy: 93.52%\n",
      "\n",
      "Classification Report:\n",
      "\n",
      "              precision    recall  f1-score   support\n",
      "\n",
      "          No       0.94      0.94      0.94     16616\n",
      "         Yes       0.93      0.93      0.93     15983\n",
      "\n",
      "    accuracy                           0.94     32599\n",
      "   macro avg       0.94      0.94      0.94     32599\n",
      "weighted avg       0.94      0.94      0.94     32599\n",
      "\n"
     ]
    }
   ],
   "source": [
    "clf = ExtraTreesClassifier(n_estimators=100, criterion='gini', max_depth=None, random_state=42)\n",
    "clf.fit(X_train, y_train)\n",
    "y_pred = clf.predict(X_test)\n",
    "\n",
    "accuracy = accuracy_score(y_test, y_pred)\n",
    "print(f\"Accuracy: {accuracy * 100:.2f}%\")\n",
    "\n",
    "report = classification_report(y_test, y_pred, target_names=['No', 'Yes'])\n",
    "print(\"\\nClassification Report:\\n\")\n",
    "print(report)\n"
   ]
  },
  {
   "cell_type": "markdown",
   "metadata": {},
   "source": [
    "## XGBoost"
   ]
  },
  {
   "cell_type": "code",
   "execution_count": 90,
   "metadata": {},
   "outputs": [
    {
     "name": "stdout",
     "output_type": "stream",
     "text": [
      "Accuracy: 94.02%\n",
      "Classification Report:\n",
      "              precision    recall  f1-score   support\n",
      "\n",
      "           0       0.94      0.94      0.94     16616\n",
      "           1       0.94      0.94      0.94     15983\n",
      "\n",
      "    accuracy                           0.94     32599\n",
      "   macro avg       0.94      0.94      0.94     32599\n",
      "weighted avg       0.94      0.94      0.94     32599\n",
      "\n"
     ]
    }
   ],
   "source": [
    "xgb_model = xgb.XGBClassifier().fit(X_train, y_train)\n",
    "y_pred = xgb_model.predict(X_test)\n",
    "\n",
    "accuracy = accuracy_score(y_test, y_pred)\n",
    "print(f\"Accuracy: {accuracy * 100:.2f}%\")\n",
    "print(\"Classification Report:\")\n",
    "print(classification_report(y_test, y_pred))"
   ]
  }
 ],
 "metadata": {
  "kernelspec": {
   "display_name": "Python 3",
   "language": "python",
   "name": "python3"
  },
  "language_info": {
   "codemirror_mode": {
    "name": "ipython",
    "version": 3
   },
   "file_extension": ".py",
   "mimetype": "text/x-python",
   "name": "python",
   "nbconvert_exporter": "python",
   "pygments_lexer": "ipython3",
   "version": "3.13.1"
  }
 },
 "nbformat": 4,
 "nbformat_minor": 2
}
